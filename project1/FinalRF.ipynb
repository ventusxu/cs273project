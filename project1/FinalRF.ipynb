{
 "cells": [
  {
   "cell_type": "markdown",
   "metadata": {},
   "source": [
    "# Final RF"
   ]
  },
  {
   "cell_type": "code",
   "execution_count": 4,
   "metadata": {},
   "outputs": [],
   "source": [
    "import mltools as ml\n",
    "import numpy as np\n",
    "import matplotlib.pyplot as plt\n",
    "from sklearn.neural_network import MLPRegressor as nnetR\n",
    "from sklearn.metrics import mean_squared_error as mse\n",
    "from sklearn.neighbors import KNeighborsRegressor as knn\n",
    "from sklearn.ensemble import RandomForestRegressor as rf\n",
    "from sklearn.model_selection import ShuffleSplit"
   ]
  },
  {
   "cell_type": "code",
   "execution_count": 14,
   "metadata": {},
   "outputs": [
    {
     "name": "stdout",
     "output_type": "stream",
     "text": [
      "88\n"
     ]
    }
   ],
   "source": [
    "import mltools as ml\n",
    "import numpy as np\n",
    "import matplotlib.pyplot as plt\n",
    "from sklearn.metrics import mean_squared_error as mse\n",
    "from sklearn.model_selection import ShuffleSplit\n",
    "from sklearn import neighbors\n",
    "\n",
    "Xtr = np.genfromtxt(\"data/X_train.txt\",delimiter=None)\n",
    "Ytr = np.genfromtxt(\"data/Y_train.txt\",delimiter=None)\n",
    "Xte = np.genfromtxt(\"data/X_test.txt\",delimiter=None)\n",
    "\n",
    "# Xtr,param = ml.transforms.rescale(Xtr)\n",
    "# Xte,_ = ml.transforms.rescale(Xte)\n",
    "\n",
    "#%%\n",
    "out4 = np.all([Xtr[:,4]>12000,Ytr>30],axis=0)\n",
    "out5 = np.all([Xtr[:,5]>6000, Ytr>30],axis=0)\n",
    "out7 = np.any([np.all([Xtr[:,7]>15, Ytr>20],axis=0),\\\n",
    "               np.all([Xtr[:,7]>25, Ytr>10],axis=0)],\\\n",
    "              axis=0)\n",
    "out8 = np.any([np.all([Xtr[:,8]>17,   Ytr>10],axis=0),\\\n",
    "               np.all([Xtr[:,8]>17.5, Ytr>10],axis=0)],axis=0)\n",
    "out9 =  np.all([Xtr[:,9]>11,   Ytr>10],axis=0)\n",
    "out10 = np.all([Xtr[:,10]>13,  Ytr>20,  Ytr<40],axis=0)\n",
    "out12 = np.all([Xtr[:,12]>40,  Ytr>10],axis=0)\n",
    "out13 = np.all([Xtr[:,13]>400, Ytr>10],axis=0)\n",
    "\n",
    "outX0 = np.any([Xtr[:,9]==0, Xtr[:,10]==0, Xtr[:,11]==0], axis=0)\n",
    "\n",
    "outMask = np.any([Xtr[:,7]>40, Xtr[:,12]>400, Xtr[:,11]>40],axis=0)\n",
    "\n",
    "outMask = np.any([outMask, out4, out5, out7, out8, out10, out12, out13], axis=0)\n",
    "print(np.sum(outMask))\n",
    "X,Y = Xtr[~outMask],Ytr[~outMask]\n",
    "\n",
    "# Cross Validation\n",
    "rs0 = ShuffleSplit(n_splits=5, test_size=0.2, random_state=0)\n",
    "Xsp0 = rs0.split(X)\n",
    "\n",
    "# rescalse\n",
    "X,param = ml.transforms.rescale(X)\n",
    "Xte,_ = ml.transforms.rescale(Xte)\n",
    "\n",
    "XtCV = []\n",
    "XvCV = []\n",
    "YtCV = []\n",
    "YvCV = []\n",
    "for tr_idx, va_idx in Xsp0:\n",
    "    XtCV.append(X[tr_idx])\n",
    "    XvCV.append(X[va_idx])\n",
    "    YtCV.append(Y[tr_idx])\n",
    "    YvCV.append(Y[va_idx])"
   ]
  },
  {
   "cell_type": "code",
   "execution_count": 7,
   "metadata": {},
   "outputs": [],
   "source": [
    "from sklearn.decomposition import PCA\n",
    "pca = PCA(n_components=4)\n",
    "Xnew = pca.fit_transform(X)\n",
    "XteNew = pca.transform(Xte)\n",
    "Xnew,param = ml.transforms.rescale(Xnew)\n",
    "XteNew,_ = ml.transforms.rescale(XteNew,param)"
   ]
  },
  {
   "cell_type": "code",
   "execution_count": 15,
   "metadata": {},
   "outputs": [
    {
     "data": {
      "text/plain": [
       "RandomForestRegressor(bootstrap=True, criterion='mse', max_depth=52,\n",
       "           max_features='auto', max_leaf_nodes=None,\n",
       "           min_impurity_decrease=0.0, min_impurity_split=None,\n",
       "           min_samples_leaf=10, min_samples_split=282,\n",
       "           min_weight_fraction_leaf=0.0, n_estimators=400, n_jobs=1,\n",
       "           oob_score=False, random_state=None, verbose=0, warm_start=False)"
      ]
     },
     "execution_count": 15,
     "metadata": {},
     "output_type": "execute_result"
    }
   ],
   "source": [
    "randF = rf(n_estimators=400,max_depth=52,min_samples_leaf=10,min_samples_split=282)\n",
    "randF.fit(X,Y)"
   ]
  },
  {
   "cell_type": "code",
   "execution_count": 16,
   "metadata": {},
   "outputs": [],
   "source": [
    "Yte = randF.predict(Xte)\n",
    "Yte[Yte<0]=0\n",
    "\n",
    "fh = open('rf_w_out.csv','w')\n",
    "fh.write('ID,Prediction\\n')\n",
    "for i,yi in enumerate(Yte):\n",
    "    fh.write('{},{}\\n'.format(i,yi))\n",
    "\n",
    "fh.close()"
   ]
  }
 ],
 "metadata": {
  "kernelspec": {
   "display_name": "Python 3",
   "language": "python",
   "name": "python3"
  },
  "language_info": {
   "codemirror_mode": {
    "name": "ipython",
    "version": 3
   },
   "file_extension": ".py",
   "mimetype": "text/x-python",
   "name": "python",
   "nbconvert_exporter": "python",
   "pygments_lexer": "ipython3",
   "version": "3.6.5"
  }
 },
 "nbformat": 4,
 "nbformat_minor": 2
}
