{
 "cells": [
  {
   "cell_type": "markdown",
   "metadata": {},
   "source": [
    "# Grid Search Random Forest"
   ]
  },
  {
   "cell_type": "code",
   "execution_count": 9,
   "metadata": {},
   "outputs": [],
   "source": [
    "from sklearn.model_selection import GridSearchCV as gridSearch\n",
    "from sklearn.model_selection import RandomizedSearchCV as randSearch"
   ]
  },
  {
   "cell_type": "code",
   "execution_count": 10,
   "metadata": {},
   "outputs": [],
   "source": [
    "import numpy as np\n",
    "import mltools as ml\n",
    "import matplotlib.pyplot as plt\n",
    "from sklearn.metrics import mean_squared_error as mse\n",
    "from sklearn.ensemble import RandomForestRegressor as RFR\n",
    "from sklearn.model_selection import ShuffleSplit\n",
    "\n",
    "Xtr = np.genfromtxt(\"data/X_train.txt\",delimiter=None)\n",
    "Ytr = np.genfromtxt(\"data/Y_train.txt\",delimiter=None)\n",
    "Xte = np.genfromtxt(\"data/X_test.txt\",delimiter=None)\n",
    "\n",
    "Xtr,param = ml.transforms.rescale(Xtr)\n",
    "Xte,_ = ml.transforms.rescale(Xte,param)\n",
    "\n",
    "X = Xtr[:50000]\n",
    "Y = Ytr[:50000]\n",
    "rs0 = ShuffleSplit(n_splits=5, test_size=0.2, random_state=1)\n",
    "Xsp0 = rs0.split(X)\n",
    "\n",
    "XtCV = []\n",
    "XvCV = []\n",
    "YtCV = []\n",
    "YvCV = []\n",
    "for tr_idx, va_idx in Xsp0:\n",
    "    XtCV.append(X[tr_idx])\n",
    "    XvCV.append(X[va_idx])\n",
    "    YtCV.append(Y[tr_idx])\n",
    "    YvCV.append(Y[va_idx])"
   ]
  },
  {
   "cell_type": "code",
   "execution_count": null,
   "metadata": {},
   "outputs": [
    {
     "name": "stdout",
     "output_type": "stream",
     "text": [
      "Fitting 3 folds for each of 32 candidates, totalling 96 fits\n"
     ]
    },
    {
     "name": "stderr",
     "output_type": "stream",
     "text": [
      "[Parallel(n_jobs=8)]: Done  34 tasks      | elapsed:  4.0min\n"
     ]
    }
   ],
   "source": [
    "rf = RFR()\n",
    "parameters = {'n_estimators':list(range(30,301,20)),'max_features':list(range(3,14)),'max_depth':list(range(30,301,20)),'min_samples_split':list(range(40,480,20)),'min_samples_leaf':list(range(4,16,2))}\n",
    "clf = gridSearch(rf, parameters,n_jobs=8,verbose=1)\n",
    "clf.fit(X,Y)"
   ]
  },
  {
   "cell_type": "code",
   "execution_count": null,
   "metadata": {},
   "outputs": [],
   "source": [
    "YtHat = clf.predict(X)\n",
    "YvHat = clf.predict(XvCV[0])\n",
    "errT = mse(YtHat,Y)\n",
    "errV = mse(YvHat,YvCV[0])\n",
    "print(\"train\",errT)\n",
    "print(\"valid\",errV)"
   ]
  }
 ],
 "metadata": {
  "kernelspec": {
   "display_name": "Python 3",
   "language": "python",
   "name": "python3"
  },
  "language_info": {
   "codemirror_mode": {
    "name": "ipython",
    "version": 3
   },
   "file_extension": ".py",
   "mimetype": "text/x-python",
   "name": "python",
   "nbconvert_exporter": "python",
   "pygments_lexer": "ipython3",
   "version": "3.6.5"
  }
 },
 "nbformat": 4,
 "nbformat_minor": 2
}
