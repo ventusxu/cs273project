{
 "cells": [
  {
   "cell_type": "markdown",
   "metadata": {},
   "source": [
    "# Randmized Search RF"
   ]
  },
  {
   "cell_type": "code",
   "execution_count": 3,
   "metadata": {},
   "outputs": [],
   "source": [
    "from sklearn.model_selection import RandomizedSearchCV as randSearch"
   ]
  },
  {
   "cell_type": "code",
   "execution_count": 4,
   "metadata": {},
   "outputs": [],
   "source": [
    "import numpy as np\n",
    "import mltools as ml\n",
    "import matplotlib.pyplot as plt\n",
    "from sklearn.metrics import mean_squared_error as mse\n",
    "from sklearn.ensemble import RandomForestRegressor as RFR\n",
    "from sklearn.model_selection import ShuffleSplit\n",
    "\n",
    "Xtr = np.genfromtxt(\"data/X_train.txt\",delimiter=None)\n",
    "Ytr = np.genfromtxt(\"data/Y_train.txt\",delimiter=None)\n",
    "Xte = np.genfromtxt(\"data/X_test.txt\",delimiter=None)\n",
    "\n",
    "Xtr,param = ml.transforms.rescale(Xtr)\n",
    "Xte,_ = ml.transforms.rescale(Xte,param)\n",
    "\n",
    "X = Xtr[:50000]\n",
    "Y = Ytr[:50000]\n",
    "rs0 = ShuffleSplit(n_splits=5, test_size=0.2, random_state=1)\n",
    "Xsp0 = rs0.split(X)\n",
    "\n",
    "XtCV = []\n",
    "XvCV = []\n",
    "YtCV = []\n",
    "YvCV = []\n",
    "for tr_idx, va_idx in Xsp0:\n",
    "    XtCV.append(X[tr_idx])\n",
    "    XvCV.append(X[va_idx])\n",
    "    YtCV.append(Y[tr_idx])\n",
    "    YvCV.append(Y[va_idx])"
   ]
  },
  {
   "cell_type": "code",
   "execution_count": 7,
   "metadata": {},
   "outputs": [
    {
     "data": {
      "text/plain": [
       "RandomizedSearchCV(cv=None, error_score='raise',\n",
       "          estimator=RandomForestRegressor(bootstrap=True, criterion='mse', max_depth=None,\n",
       "           max_features='auto', max_leaf_nodes=None,\n",
       "           min_impurity_decrease=0.0, min_impurity_split=None,\n",
       "           min_samples_leaf=1, min_samples_split=2,\n",
       "           min_weight_fraction_leaf=0.0, n_estimators=10, n_jobs=1,\n",
       "           oob_score=False, random_state=None, verbose=0, warm_start=False),\n",
       "          fit_params=None, iid=True, n_iter=20, n_jobs=8,\n",
       "          param_distributions={'n_estimators': [25, 30, 35, 40, 45, 50, 55, 60, 65, 70, 75, 80, 85, 90, 95, 100, 105, 110, 115, 120, 125, 130, 135, 140, 145, 150, 155, 160, 165, 170, 175, 180, 185, 190, 195, 200, 205, 210, 215, 220, 225, 230, 235, 240, 245, 250, 255, 260, 265, 270, 275, 280, 285, 290, 295], '... 474, 475, 476, 477, 478, 479, 480], 'min_samples_leaf': [4, 5, 6, 7, 8, 9, 10, 11, 12, 13, 14, 15]},\n",
       "          pre_dispatch='2*n_jobs', random_state=None, refit=True,\n",
       "          return_train_score='warn', scoring=None, verbose=0)"
      ]
     },
     "execution_count": 7,
     "metadata": {},
     "output_type": "execute_result"
    }
   ],
   "source": [
    "rf = RFR()\n",
    "parameters = {'n_estimators':list(range(25,300,5)),'max_features':list(range(1,15)),'max_depth':list(range(30,301,10)),'min_samples_split':list(range(40,481)),'min_samples_leaf':list(range(4,16,1))}\n",
    "clf = randSearch(rf, parameters,n_jobs=8,n_iter=20)\n",
    "clf.fit(X,Y)"
   ]
  },
  {
   "cell_type": "code",
   "execution_count": 8,
   "metadata": {},
   "outputs": [
    {
     "name": "stdout",
     "output_type": "stream",
     "text": [
      "train 2.88816244983933\n",
      "valid 2.7273468336219757\n"
     ]
    }
   ],
   "source": [
    "YtHat = clf.predict(X)\n",
    "YvHat = clf.predict(Xtr[50000:60000])\n",
    "errT = mse(YtHat,Y)\n",
    "errV = mse(YvHat,Ytr[50000:60000])\n",
    "print(\"train\",errT)\n",
    "print(\"valid\",errV)"
   ]
  },
  {
   "cell_type": "code",
   "execution_count": 10,
   "metadata": {},
   "outputs": [],
   "source": [
    "Yte = clf.predict(Xte)\n",
    "Yte[Yte<0]=0\n",
    "fh = open('randsearch.csv','w')\n",
    "fh.write(\"ID,Prediction\\n\")\n",
    "for i,yi in enumerate(Yte):\n",
    "    fh.write(\"{},{}\\n\".format(i,yi))\n",
    "fh.close()"
   ]
  },
  {
   "cell_type": "markdown",
   "metadata": {},
   "source": [
    "## Kaggle Score"
   ]
  },
  {
   "cell_type": "markdown",
   "metadata": {},
   "source": [
    "The score on kaggle is 3.38489"
   ]
  },
  {
   "cell_type": "markdown",
   "metadata": {},
   "source": [
    "# Ensemble Random Forest, KNN and Neural Network with Neural Net"
   ]
  },
  {
   "cell_type": "code",
   "execution_count": 17,
   "metadata": {},
   "outputs": [],
   "source": [
    "from sklearn.neighbors import KNeighborsRegressor as knn\n",
    "knnL = knn(16)\n",
    "knnL.fit(X,Y)\n",
    "YteKNN = knnL.predict(Xte)\n",
    "YteKNN[YteKNN<0] = 0"
   ]
  },
  {
   "cell_type": "code",
   "execution_count": null,
   "metadata": {},
   "outputs": [],
   "source": [
    "Xtriple = np.hstack(Yte,YteKNN,YteNN)"
   ]
  },
  {
   "cell_type": "code",
   "execution_count": null,
   "metadata": {},
   "outputs": [],
   "source": [
    "from sklearn.neural_network import MLPRegressor as mlp\n",
    "\n",
    "X = Xtriple[:10000]\n",
    "Y = Ytr[:10000]\n",
    "rs0 = ShuffleSplit(n_splits=10, test_size=0.1, random_state=1)\n",
    "Xsp0 = rs0.split(X)\n",
    "\n",
    "XtCV = []\n",
    "XvCV = []\n",
    "YtCV = []\n",
    "YvCV = []\n",
    "for tr_idx, va_idx in Xsp0:\n",
    "    XtCV.append(X[tr_idx])\n",
    "    XvCV.append(X[va_idx])\n",
    "    YtCV.append(Y[tr_idx])\n",
    "    YvCV.append(Y[va_idx])\n",
    "\n",
    "# iterate over different parameters of mlp\n",
    "errTult = []\n",
    "errVult = []\n",
    "\n",
    "for para in paras:\n",
    "    # CV\n",
    "    errTi = []\n",
    "    errVi = []\n",
    "    for i in range(10):\n",
    "        learner = mlp(...)\n",
    "        learner.fit(XtCV[i],YtCV[i])\n",
    "        errTi.append(mse(learner.predict(XtCV[i]),YtCV[i]))\n",
    "        errVi.append(mse(learner.predict(XvCV[i]),YvCV[i]))\n",
    "    errTi = np.array(errTi)\n",
    "    errVi = np.array(errVi)\n",
    "    errTult.append(np.mean(errTi))\n",
    "    errVult.append(np.mean(errVi))"
   ]
  }
 ],
 "metadata": {
  "kernelspec": {
   "display_name": "Python 3",
   "language": "python",
   "name": "python3"
  },
  "language_info": {
   "codemirror_mode": {
    "name": "ipython",
    "version": 3
   },
   "file_extension": ".py",
   "mimetype": "text/x-python",
   "name": "python",
   "nbconvert_exporter": "python",
   "pygments_lexer": "ipython3",
   "version": "3.6.5"
  }
 },
 "nbformat": 4,
 "nbformat_minor": 2
}
